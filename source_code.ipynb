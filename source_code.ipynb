{
  "nbformat": 4,
  "nbformat_minor": 2,
  "metadata": {
    "colab": {
      "name": "Adding.ipynb",
      "provenance": [],
      "collapsed_sections": []
    },
    "kernelspec": {
      "name": "python3",
      "display_name": "Python 3.8.8 64-bit"
    },
    "language_info": {
      "name": "python",
      "version": "3.8.8"
    },
    "interpreter": {
      "hash": "07efdcd4b820c98a756949507a4d29d7862823915ec7477944641bea022f4f62"
    }
  },
  "cells": [
    {
      "cell_type": "markdown",
      "source": [
        "Creating the Dataset"
      ],
      "metadata": {
        "id": "8I6gril3T8gj"
      }
    },
    {
      "cell_type": "code",
      "execution_count": null,
      "source": [
        "record = {'1001': {'name': 'wafer', 'pr': 20, 'qn': 1000},\r\n",
        "              '1002': {'name': 'Drink', 'pr': 85, 'qn': 200},\r\n",
        "              '1003': {'name': 'Candy', 'pr': 5, 'qn': 1000},\r\n",
        "              '1004': {'name': 'brown rice', 'pr': 2000, 'qn': 300},\r\n",
        "              '1005': {'name': 'pasta', 'pr': 200, 'qn': 100},\r\n",
        "              '1006': {'name': 'eggs[dozen]', 'pr': 89, 'qn': 1000},\r\n",
        "              '1007': {'name': 'dark chocolate', 'pr': 599, 'qn': 500},\r\n",
        "              '1008': {'name': 'donut', 'pr': 150, 'qn': 300},\r\n",
        "              '1009': {'name': 'ice-cream', 'pr': 280, 'qn': 100},\r\n",
        "              '1010': {'name': 'shoes', 'pr': 2800, 'qn': 200},\r\n",
        "              '1011': {'name': 'clock', 'pr': 299, 'qn': 300},\r\n",
        "              '1012': {'name': 'almonds', 'pr': 299, 'qn': 50},\r\n",
        "              '1013': {'name': 'cake', 'pr': 300, 'qn': 100},\r\n",
        "              '1014': {'name': 'cookie', 'pr': 50, 'qn': 250},\r\n",
        "              '1015': {'name': 'milk', 'pr': 79, 'qn': 500},\r\n",
        "              '1016': {'name': 'cheese', 'pr': 299, 'qn': 450},\r\n",
        "              '1017': {'name': 'corn flakes', 'pr': 399, 'qn': 400},\r\n",
        "              '1018': {'name': 'bread', 'pr': 199, 'qn': 2000},\r\n",
        "              '1019': {'name': 'honey', 'pr': 200, 'qn': 59},\r\n",
        "              '1020': {'name': 'peanut butter', 'pr': 599},\r\n",
        "              '1021': {'name': 'coffee powder', 'pr': 150},\r\n",
        "              '1022': {'name': 'milk shake', 'pr': 69, 'qn': 2000},\r\n",
        "              '1023': {'name': 'lemonade', 'pr': 59, 'qn': 2000},\r\n",
        "              '1024': {'name': 'water bottle', 'pr': 29, 'qn': 2000},\r\n",
        "              '1025': {'name': 'Chocolate candy', 'pr': 19, 'qn': 1000},\r\n",
        "              '1026': {'name': 'candy bar', 'pr': 10, 'qn': 10000},\r\n",
        "              '1027': {'name': 'apple pie', 'pr': 199, 'qn': 500},\r\n",
        "              '1028': {'name': 'pizza', 'pr': 399, 'qn': 500},\r\n",
        "              '1029': {'name': 'pancake', 'pr': 295, 'qn': 40},\r\n",
        "              '1030': {'name': 'biscuits', 'pr': 25, 'qn': 1000}\r\n",
        "             }\r\n",
        "\r\n",
        "print(\"Dataset has been created\")"
      ],
      "outputs": [
        {
          "output_type": "stream",
          "name": "stdout",
          "text": [
            "Dataset has been created\n"
          ]
        }
      ],
      "metadata": {
        "id": "r5c54Zl-NVr7",
        "colab": {
          "base_uri": "https://localhost:8080/"
        },
        "outputId": "58c10423-ed52-4fc0-8dd9-eb3b257b0abf"
      }
    },
    {
      "cell_type": "markdown",
      "source": [
        "Adding the dataset to **record json file**\n"
      ],
      "metadata": {
        "id": "cIrSRvcNTJi3"
      }
    },
    {
      "cell_type": "code",
      "execution_count": null,
      "source": [
        "import json\r\n",
        "js = json.dumps(record)\r\n",
        "\r\n",
        "fd = open(\"record.json\",'w')\r\n",
        "fd.write(js)\r\n",
        "fd.close()"
      ],
      "outputs": [],
      "metadata": {
        "id": "nB3vludZNqDl"
      }
    },
    {
      "cell_type": "markdown",
      "source": [
        "Reading the json file"
      ],
      "metadata": {
        "id": "uQJmic9_TqPB"
      }
    },
    {
      "cell_type": "code",
      "execution_count": null,
      "source": [
        "fd = open(\"record.json\",'r')\r\n",
        "r = fd.read()\r\n",
        "fd.close()\r\n",
        "\r\n",
        "record = json.loads(r)"
      ],
      "outputs": [],
      "metadata": {
        "id": "70rmKCsPNz_T"
      }
    },
    {
      "cell_type": "markdown",
      "source": [
        "Importing **Req Libraries**"
      ],
      "metadata": {
        "id": "GjXbzL9erahR"
      }
    },
    {
      "cell_type": "code",
      "execution_count": null,
      "source": [
        "import pandas as pd\r\n",
        "from IPython.display import display"
      ],
      "outputs": [],
      "metadata": {
        "id": "HI4yaaQxo6zp"
      }
    },
    {
      "cell_type": "markdown",
      "source": [
        "**Access management**"
      ],
      "metadata": {
        "id": "81DB1PEhT4gS"
      }
    },
    {
      "cell_type": "code",
      "execution_count": null,
      "source": [
        "user_id,password_id = \"Mohammed Abdul Sohail\",9502463435\r\n",
        "\r\n",
        "role=input(\"Enter your role : \")\r\n",
        "if role==\"admin\" :\r\n",
        "    user=input(\"Enter Username : \")\r\n",
        "    password = int(input(\"Enter Password : \"))\r\n",
        "    while(True):\r\n",
        "      if ( user==user_id and password==password_id ):\r\n",
        "          print(\"You've successfully logged in as Admin\")\r\n",
        "          add_del=input(\"Do you want to add or delete : \")\r\n",
        "          if add_del == \"add\" :\r\n",
        "              prod_id = str(input(\"Enter product id: \"))\r\n",
        "              name = str(input(\"Enter name: \"))\r\n",
        "              pr = int(input(\"Enter price: \"))\r\n",
        "              qn = int(input(\"Enter quantity: \"))\r\n",
        "              record[prod_id] = {'name': name, 'pr': pr, 'qn': qn}\r\n",
        "              js_add = json.dumps(record)\r\n",
        "              fd = open(\"record.json\",'w')\r\n",
        "              fd.write(js_add)\r\n",
        "              fd.close()\r\n",
        "              print(\"Congratulations, you've successfully added the Item\")\r\n",
        "              repeat_admin=input(\"Do you want to add or delete a file again? Enter Yes or No: \")\r\n",
        "              if( repeat_admin == \"Yes\" ):\r\n",
        "                continue\r\n",
        "              elif( repeat_admin == \"No\" ):\r\n",
        "                print(\"Thank you for logging in\")\r\n",
        "                break\r\n",
        "          elif add_del == \"delete\" :\r\n",
        "              ask_user = input(\"Do you want to view the Dataset? Enter Yes or No: \")\r\n",
        "              if(ask_user == \"Yes\"):\r\n",
        "                ds = pd.DataFrame(record)\r\n",
        "                print(\"The Record View : \")\r\n",
        "                display(ds.transpose())\r\n",
        "              elif(ask_user == \"No\"):\r\n",
        "                print(\"Okay, no issues\")\r\n",
        "              product_id = str(input(\"Enter product id: \"))\r\n",
        "              del record[product_id]\r\n",
        "              js_del = json.dumps(record)\r\n",
        "              fd = open(\"record.json\",'w')\r\n",
        "              fd.write(js_del)\r\n",
        "              fd.close()\r\n",
        "              print(\"You've successfully deleted the Item\")\r\n",
        "              repeat_user=input(\"Do you want to add or delete a file again? Enter Yes or No: \")\r\n",
        "              if( repeat_user == \"Yes\" ):\r\n",
        "                continue\r\n",
        "              elif( repeat_user == \"No\" ):\r\n",
        "                print(\"Thank you for logging in\")\r\n",
        "                break\r\n",
        "          else :\r\n",
        "              print(\"please enter valid Text..\")\r\n",
        "      else :\r\n",
        "        print(\"Invalid Credentials...\")\r\n",
        "        break\r\n",
        "elif role==\"purchaser\":\r\n",
        "    print(\"Hello Purchaser....\")\r\n",
        "    #print records using pandas to display the list of items\r\n",
        "    ask_purchaser = input(\"Do you want to view the Dataset? Enter Yes or No: \")\r\n",
        "    if(ask_purchaser == \"Yes\"):\r\n",
        "      ds = pd.DataFrame(record)\r\n",
        "      print(\"The Record View : \")\r\n",
        "      display(ds.transpose())\r\n",
        "    elif(ask_purchaser == \"No\"):\r\n",
        "      print(\"Okay, no issues\")\r\n",
        "    ui_prod  = str(input(\"Enter the product_Id of the item you want to purchase: \"))\r\n",
        "    ui_quant = int(input(\"Enter the quantity : \"))\r\n",
        "    if(ui_quant > record[ui_prod]['qn']) :\r\n",
        "          print(\"Entered quantity is out of range...\")\r\n",
        "    else :\r\n",
        "      print(\"-----------------------------------\")\r\n",
        "      print(\"Product: \", record[ui_prod]['name'])\r\n",
        "      print(\"Price: \", record[ui_prod]['pr'])\r\n",
        "      print(\"-----------------------------------\")\r\n",
        "      print(\"Billing Amount: \", record[ui_prod]['pr'] * ui_quant)\r\n",
        "\r\n",
        "      record[ui_prod]['qn'] = record[ui_prod]['qn'] - ui_quant\r\n",
        "      js = json.dumps(record)\r\n",
        "      fd = open(\"record.json\",'w')\r\n",
        "      fd.write(js)\r\n",
        "      fd.close()\r\n"
      ],
      "outputs": [
        {
          "output_type": "stream",
          "name": "stdout",
          "text": [
            "Enter your role : admin\n",
            "Enter Username : admin\n",
            "Enter Password : 123\n",
            "You've successfully logged in as Admin\n",
            "Do you want to add or delete : delete\n",
            "Do you want to view the Dataset? Enter Yes or No: No\n",
            "Okay, no issues\n",
            "Enter product id: 1031\n",
            "You've successfully deleted the Item\n",
            "Do you want to add or delete a file again? Enter Yes or No: Yes\n",
            "You've successfully logged in as Admin\n",
            "Do you want to add or delete : delete\n",
            "Do you want to view the Dataset? Enter Yes or No: No\n",
            "Okay, no issues\n",
            "Enter product id: 1022\n",
            "You've successfully deleted the Item\n",
            "Do you want to add or delete a file again? Enter Yes or No: No\n",
            "Thank you for logging in\n"
          ]
        }
      ],
      "metadata": {
        "id": "qUzTyOY-LSAZ",
        "colab": {
          "base_uri": "https://localhost:8080/"
        },
        "outputId": "89e265b0-35ce-479a-c475-c237b9e32241"
      }
    },
    {
      "cell_type": "code",
      "execution_count": null,
      "source": [
        "from datetime import datetime\r\n",
        "now_method = datetime.now()\r\n",
        "currentTime = now_method.strftime(\"%H:%M:%S\")"
      ],
      "outputs": [],
      "metadata": {
        "id": "vahbldzxKYVi"
      }
    },
    {
      "cell_type": "code",
      "execution_count": null,
      "source": [
        "sales={ui_prod : {'qn' : ui_quant, 'amount gained': record[ui_prod]['pr'] * ui_quant, 'time': currentTime}}"
      ],
      "outputs": [],
      "metadata": {
        "id": "bLrK8IeNKcod"
      }
    },
    {
      "cell_type": "markdown",
      "source": [
        "Run only once to create Sales Json file\n"
      ],
      "metadata": {
        "id": "Gt5HISUSPQ0Y"
      }
    },
    {
      "cell_type": "code",
      "execution_count": null,
      "source": [
        "js_sale = json.dumps(sales)\r\n",
        "\r\n",
        "fd = open(\"sales.json\",'w')\r\n",
        "fd.write(js_sale)\r\n",
        "fd.close()"
      ],
      "outputs": [],
      "metadata": {
        "id": "nEpD3QwOK1f7"
      }
    },
    {
      "cell_type": "code",
      "execution_count": null,
      "source": [
        "with open(\"sales.json\", \"r+\") as file:\r\n",
        "\r\n",
        "    data = json.load(file)\r\n",
        "\r\n",
        "    data.update(sales)\r\n",
        "\r\n",
        "    file.seek(0)\r\n",
        "\r\n",
        "    json.dump(data, file)"
      ],
      "outputs": [],
      "metadata": {
        "id": "2DLKIg4QKfk2"
      }
    }
  ]
}